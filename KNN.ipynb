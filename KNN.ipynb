{
 "cells": [
  {
   "cell_type": "code",
   "execution_count": 1,
   "metadata": {},
   "outputs": [],
   "source": [
    "#Defining the train and test data\n",
    "#initialising empty  lists\n",
    "import math\n",
    "A=[[40,174,63,5.7,69],\n",
    "[50,126,73,5.0,66],\n",
    "[32,140,72,5.3,85],\n",
    "[48,123,64,6.1,88],\n",
    "[28,132,74,4.6,83],\n",
    "[27,178,74,5.2,82],\n",
    "[26,148,77,6.0,88],\n",
    "[23,120,68,5.8,75],\n",
    "[38,177,73,4.5,70],\n",
    "[29,101,72,6.3,88]]\n",
    "B=[50,130,70,5.0] \n",
    "K=2\n",
    "T=[]\n",
    "V=[]\n",
    "DM=[]\n",
    "n=len(A)\n",
    "# finding the difference and appending the difference into final list as lists \n",
    "for i in range (0,n):\n",
    "            D=[]\n",
    "            for j in range(len(A[i])-1):\n",
    "                  D.append((A[i][j]-B[j])**2)\n",
    "            DM.append(D)\n",
    "# finding the euclidean distance\n",
    "for k in range(len(DM)):\n",
    "    s=math.sqrt(sum(DM[k]))\n",
    "    V.append(s)\n",
    "for y in range(0,n):\n",
    "    A[y].append(V[y])\n",
    "\n",
    "#sorting the distance in ascending order\n",
    "srt=sorted(A,key=lambda x:x[4])\n",
    "srt\n",
    "\n",
    "#calculating the cumilative sum and hence the average using k values\n",
    "#calculating the percentage error\n",
    "distance_column_copy=A.copy()\n",
    "distance_indices=[A.index(index_val) for index_val in distance_column_copy]\n",
    "distance_indices=distance_indices[0:k]\n",
    "prediction= sum([A[i][len(A[i])-1] for i in distance_indices])/k"
   ]
  },
  {
   "cell_type": "code",
   "execution_count": 2,
   "metadata": {},
   "outputs": [
    {
     "name": "stdout",
     "output_type": "stream",
     "text": [
      "29.442575635020415\n"
     ]
    }
   ],
   "source": [
    "print(prediction)"
   ]
  },
  {
   "cell_type": "code",
   "execution_count": null,
   "metadata": {},
   "outputs": [],
   "source": []
  }
 ],
 "metadata": {
  "kernelspec": {
   "display_name": "Python 3",
   "language": "python",
   "name": "python3"
  },
  "language_info": {
   "codemirror_mode": {
    "name": "ipython",
    "version": 3
   },
   "file_extension": ".py",
   "mimetype": "text/x-python",
   "name": "python",
   "nbconvert_exporter": "python",
   "pygments_lexer": "ipython3",
   "version": "3.7.4"
  }
 },
 "nbformat": 4,
 "nbformat_minor": 2
}
